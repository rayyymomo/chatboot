{
 "cells": [
  {
   "cell_type": "code",
   "execution_count": 1,
   "metadata": {},
   "outputs": [
    {
     "name": "stdout",
     "output_type": "stream",
     "text": [
      "█\r"
     ]
    }
   ],
   "source": [
    "import itchat\n",
    "import requests\n",
    "import re\n",
    "\n",
    "from iexfinance.stocks import Stock, get_historical_data,get_market_volume,get_historical_intraday"
   ]
  },
  {
   "cell_type": "code",
   "execution_count": 2,
   "metadata": {},
   "outputs": [],
   "source": [
    "class GetData(object):\n",
    "\n",
    "    def __init__(self,code=None):\n",
    "        self.aapl = Stock(code)\n",
    "        # 开盘价[open],最高价[high],成交量[volume]\n",
    "        self.data = get_historical_data(code, output_format='pandas').iloc[-1]\n",
    "        self.aapl2 = Stock(code, output_format='pandas')\n",
    "\n",
    "    def price(self):\n",
    "        price_data = self.aapl.get_price()\n",
    "        return price_data\n",
    "\n",
    "    def open(self):\n",
    "        open_data = self.data.loc[\"open\"]\n",
    "        return open_data\n",
    "\n",
    "    def high(self):\n",
    "        high_data = self.data.loc[\"open\"]\n",
    "        return high_data\n",
    "\n",
    "    def volume(self):\n",
    "        volume_data = self.data.loc[\"volume\"]\n",
    "        return volume_data\n",
    "\n",
    "    def markstCap(self):\n",
    "        #  \"市值\",\n",
    "        marketCap_com = self.aapl2.get_quote(displayPercent=True).loc[\"marketCap\"].values\n",
    "        marketCap_data = marketCap_com[0] if marketCap_com else ''\n",
    "        return marketCap_data"
   ]
  },
  {
   "cell_type": "code",
   "execution_count": 3,
   "metadata": {},
   "outputs": [],
   "source": [
    "# 定义一个存储session对象的\n",
    "user_session = []\n",
    "# 自动回复\n",
    "# 封装好的装饰器，当接收到的消息是Text，即文字消息\n",
    "@itchat.msg_register(['Text', 'Map', 'Card', 'Note', 'Sharing', 'Picture'])\n",
    "def text_reply(msg):\n",
    "    # 当消息不是由自己发出的时候\n",
    "    if not msg['FromUserName'] == Name[\"Lai xx\"] :\n",
    "        info_list = ['开盘价', \"股价\", \"市值\", \"成交量\", \"最高价\"]\n",
    "        # 如果单轮查询的，先re匹配，然后一次性创建对象，并且返回其想要的东西\n",
    "        msg_list = msg['Text'].split(\"的\")\n",
    "        if len(msg_list) == 2 :\n",
    "            # 先创建对象,如果创建成功,给出提示信息\n",
    "            try:\n",
    "                code = GetData(msg_list[0])\n",
    "            except:\n",
    "                return \"您输入的股票有误,请重新输入！！\"\n",
    "            user_session.append(code)\n",
    "            # 如果直接进来,先判断session是否存在\n",
    "            if not user_session:\n",
    "                return \"请先输入你想了解的公司\"\n",
    "            message = \"该公司的{}是:\\n\".format(msg_list[-1])\n",
    "            if msg_list[-1] == \"开盘价\":\n",
    "                message += str(user_session[-1].open())\n",
    "            elif msg_list[-1] == \"股价\":\n",
    "                message += str(user_session[-1].price())\n",
    "            elif msg_list[-1] == \"市值\":\n",
    "                message += str(user_session[-1].markstCap())\n",
    "            elif msg_list[-1] == \"成交量\":\n",
    "                message += str(user_session[-1].volume())\n",
    "            elif msg_list[-1] == \"最高价\":\n",
    "                message += str(user_session[-1].high())\n",
    "            return message\n",
    "        else:\n",
    "            # 多轮查询的\n",
    "            # 如果不是上面的查询语句,则创建对象\n",
    "            if msg['Text'] not in info_list:\n",
    "                # 先创建对象,如果创建成功,给出提示信息\n",
    "                try:\n",
    "                    code = GetData(msg['Text'])\n",
    "                except:\n",
    "                    return \"您输入的股票有误,请重新输入！！\"\n",
    "                user_session.append(code)\n",
    "                return \"您想知道关于这个公司什么信息1.股价 2.开盘价 3.最高价 4.成交量 5.市值\"\n",
    "\n",
    "            else:\n",
    "                # 如果直接进来,先判断session是否存在\n",
    "                if not user_session:\n",
    "                    return \"请先输入你想了解的公司\"\n",
    "                message = \"该公司{}是:\\n\".format(msg['Text'])\n",
    "                if msg['Text'] == \"开盘价\":\n",
    "                    message += str(user_session[-1].open())\n",
    "                elif msg['Text'] == \"股价\":\n",
    "                    message += str(user_session[-1].price())\n",
    "                elif msg['Text'] == \"市值\":\n",
    "                    message += str(user_session[-1].markstCap())\n",
    "                elif msg['Text'] == \"成交量\":\n",
    "                    message += str(user_session[-1].volume())\n",
    "                elif msg['Text'] == \"最高价\":\n",
    "                    message += str(user_session[-1].high())\n",
    "                return message"
   ]
  },
  {
   "cell_type": "code",
   "execution_count": null,
   "metadata": {},
   "outputs": [
    {
     "name": "stderr",
     "output_type": "stream",
     "text": [
      "Getting uuid of QR code.\n",
      "Downloading QR code.\n"
     ]
    },
    {
     "name": "stdout",
     "output_type": "stream",
     "text": [
      "███████████████████████████████████████           \n",
      "█              ██  █  █    █████████  █  ███              █\n",
      "█  █████  ██  ██  █  ████      ███  ████  █████  █\n",
      "█  █      █  █      █  █      █  ██    ██  █    █  █      █  █\n",
      "█  █      █  █  █        █  █  █      ███        █  █      █  █\n",
      "█  █      █  ██  ███    █  █    █  █  █    ███  █      █  █\n",
      "█  █████  ███        █  █  ██    █  ██  ███  █████  █\n",
      "█              █  █  █  █  █  █  █  █  █  █  █  █              █\n",
      "██████████  █  █        ██      ██    █    █████████\n",
      "████    █    █      █  ██  ████  █    ████████    ███\n",
      "██    █    █    ██████    ███      █    █      ██  █    ██\n",
      "██        █  █    █    █  █    ███          █          ██  █  █\n",
      "██  ██  ██  ██    █  █    ██  █  █  ██  █        █    █  █\n",
      "█  █                █  ███    █      ██  ███    █    ███    █\n",
      "███    █  █    ██      █            █  █  █        ██  █  ███\n",
      "███      █    █      ██  █      █    ██    █  █    █          █\n",
      "█  █  █    ██      █  ██    █  █  █  ████  █  ██        ██\n",
      "███      █        ███      █    ██      █  ██  █    ██  █  █\n",
      "██      ███  █    █  █    ██  ██  █      █  █  █  ███  ██\n",
      "█  █  █  █  █    ████    █        ███  ██  ███  ██  █  █\n",
      "████  ███  █  ███      █    █  ███    ███  ███  ████\n",
      "█  ██  █    ██    ████    ██    █      █  █      █    ████\n",
      "██  █████          █  █    █████  █          ██    █      █\n",
      "███  █  █  ██  █    █    █████  ██  ██  █  ██  ███  █\n",
      "███        ██    ███  █    ██  ███    █      █    ██      █\n",
      "███    █      ███    █████      █  ██    ███  █    █  ██\n",
      "█      █████  █    ██  ██  █        █  █  █  █  █  ██  ██\n",
      "█    █    █    ██  ██  ██          █  ██        █    █  █    █\n",
      "█  █        ███    █  ██    ████    █  █  ██  ██      ███\n",
      "█  █  ██              ██              █        █            █  ███\n",
      "█████████          ████████  █  █  ██  ███        ██\n",
      "█              █  ██    █  █  ██████    ███  █  █      █  █\n",
      "█  █████  ██████      ██  ██  █        █  ███    █  ██\n",
      "█  █      █  █  █  █      █  ███  ██    ██            ██  ██\n",
      "█  █      █  █  ███  ████    █    ████      █  ██  ████\n",
      "█  █      █  ██  █  ████    █        █    ██  ██            █\n",
      "█  █████  ███    █  ████  █  █████  ███  █  █      █\n",
      "█              ██  ██    ██    ██      ██  ██  █  ██  ██  █\n",
      "███████████████████████████████████████\n"
     ]
    },
    {
     "name": "stderr",
     "output_type": "stream",
     "text": [
      "Please scan the QR code to log in.\n"
     ]
    }
   ],
   "source": [
    "if __name__ == '__main__':\n",
    "    itchat.auto_login()\n",
    "\n",
    "    # 获取自己的UserName\n",
    "    friends = itchat.get_friends(update=True)[0:]\n",
    "    Name = {}\n",
    "    Nic = []\n",
    "    User = []\n",
    "    for i in range(len(friends)):\n",
    "        Nic.append(friends[i][\"NickName\"])\n",
    "        User.append(friends[i][\"UserName\"])\n",
    "    for i in range(len(friends)):\n",
    "        Name[Nic[i]] = User[i]\n",
    "    itchat.run()\n"
   ]
  }
 ],
 "metadata": {
  "kernelspec": {
   "display_name": "Python 3",
   "language": "python",
   "name": "python3"
  },
  "language_info": {
   "codemirror_mode": {
    "name": "ipython",
    "version": 3
   },
   "file_extension": ".py",
   "mimetype": "text/x-python",
   "name": "python",
   "nbconvert_exporter": "python",
   "pygments_lexer": "ipython3",
   "version": "3.6.5"
  }
 },
 "nbformat": 4,
 "nbformat_minor": 2
}
